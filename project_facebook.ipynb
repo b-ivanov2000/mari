{
 "cells": [
  {
   "cell_type": "code",
   "execution_count": 19,
   "metadata": {},
   "outputs": [],
   "source": [
    "import pandas as pd\n",
    "import numpy as np\n",
    "import seaborn as sns\n",
    "import matplotlib.pyplot as plt"
   ]
  },
  {
   "cell_type": "code",
   "execution_count": 2,
   "metadata": {},
   "outputs": [],
   "source": [
    "# read df and clear\n",
    "df = pd.read_csv(\"D:/studium/semester abroad/предмети/business and marketing analytics/project/Live_20210128.csv\", )"
   ]
  },
  {
   "cell_type": "code",
   "execution_count": 3,
   "metadata": {},
   "outputs": [
    {
     "data": {
      "text/html": [
       "<div>\n",
       "<style scoped>\n",
       "    .dataframe tbody tr th:only-of-type {\n",
       "        vertical-align: middle;\n",
       "    }\n",
       "\n",
       "    .dataframe tbody tr th {\n",
       "        vertical-align: top;\n",
       "    }\n",
       "\n",
       "    .dataframe thead th {\n",
       "        text-align: right;\n",
       "    }\n",
       "</style>\n",
       "<table border=\"1\" class=\"dataframe\">\n",
       "  <thead>\n",
       "    <tr style=\"text-align: right;\">\n",
       "      <th></th>\n",
       "      <th>status_id</th>\n",
       "      <th>status_type</th>\n",
       "      <th>status_published</th>\n",
       "      <th>num_reactions</th>\n",
       "      <th>num_comments</th>\n",
       "      <th>num_shares</th>\n",
       "      <th>num_likes</th>\n",
       "      <th>num_loves</th>\n",
       "      <th>num_wows</th>\n",
       "      <th>num_hahas</th>\n",
       "      <th>num_sads</th>\n",
       "      <th>num_angrys</th>\n",
       "      <th>Column1</th>\n",
       "      <th>Column2</th>\n",
       "      <th>Column3</th>\n",
       "      <th>Column4</th>\n",
       "    </tr>\n",
       "  </thead>\n",
       "  <tbody>\n",
       "    <tr>\n",
       "      <th>0</th>\n",
       "      <td>1</td>\n",
       "      <td>video</td>\n",
       "      <td>4/22/2018 6:00</td>\n",
       "      <td>529</td>\n",
       "      <td>512</td>\n",
       "      <td>262</td>\n",
       "      <td>432</td>\n",
       "      <td>92</td>\n",
       "      <td>3</td>\n",
       "      <td>1</td>\n",
       "      <td>1</td>\n",
       "      <td>0</td>\n",
       "      <td>NaN</td>\n",
       "      <td>NaN</td>\n",
       "      <td>NaN</td>\n",
       "      <td>NaN</td>\n",
       "    </tr>\n",
       "    <tr>\n",
       "      <th>1</th>\n",
       "      <td>2</td>\n",
       "      <td>photo</td>\n",
       "      <td>4/21/2018 22:45</td>\n",
       "      <td>150</td>\n",
       "      <td>0</td>\n",
       "      <td>0</td>\n",
       "      <td>150</td>\n",
       "      <td>0</td>\n",
       "      <td>0</td>\n",
       "      <td>0</td>\n",
       "      <td>0</td>\n",
       "      <td>0</td>\n",
       "      <td>NaN</td>\n",
       "      <td>NaN</td>\n",
       "      <td>NaN</td>\n",
       "      <td>NaN</td>\n",
       "    </tr>\n",
       "    <tr>\n",
       "      <th>2</th>\n",
       "      <td>3</td>\n",
       "      <td>video</td>\n",
       "      <td>4/21/2018 6:17</td>\n",
       "      <td>227</td>\n",
       "      <td>236</td>\n",
       "      <td>57</td>\n",
       "      <td>204</td>\n",
       "      <td>21</td>\n",
       "      <td>1</td>\n",
       "      <td>1</td>\n",
       "      <td>0</td>\n",
       "      <td>0</td>\n",
       "      <td>NaN</td>\n",
       "      <td>NaN</td>\n",
       "      <td>NaN</td>\n",
       "      <td>NaN</td>\n",
       "    </tr>\n",
       "    <tr>\n",
       "      <th>3</th>\n",
       "      <td>4</td>\n",
       "      <td>photo</td>\n",
       "      <td>4/21/2018 2:29</td>\n",
       "      <td>111</td>\n",
       "      <td>0</td>\n",
       "      <td>0</td>\n",
       "      <td>111</td>\n",
       "      <td>0</td>\n",
       "      <td>0</td>\n",
       "      <td>0</td>\n",
       "      <td>0</td>\n",
       "      <td>0</td>\n",
       "      <td>NaN</td>\n",
       "      <td>NaN</td>\n",
       "      <td>NaN</td>\n",
       "      <td>NaN</td>\n",
       "    </tr>\n",
       "    <tr>\n",
       "      <th>4</th>\n",
       "      <td>5</td>\n",
       "      <td>photo</td>\n",
       "      <td>4/18/2018 3:22</td>\n",
       "      <td>213</td>\n",
       "      <td>0</td>\n",
       "      <td>0</td>\n",
       "      <td>204</td>\n",
       "      <td>9</td>\n",
       "      <td>0</td>\n",
       "      <td>0</td>\n",
       "      <td>0</td>\n",
       "      <td>0</td>\n",
       "      <td>NaN</td>\n",
       "      <td>NaN</td>\n",
       "      <td>NaN</td>\n",
       "      <td>NaN</td>\n",
       "    </tr>\n",
       "    <tr>\n",
       "      <th>...</th>\n",
       "      <td>...</td>\n",
       "      <td>...</td>\n",
       "      <td>...</td>\n",
       "      <td>...</td>\n",
       "      <td>...</td>\n",
       "      <td>...</td>\n",
       "      <td>...</td>\n",
       "      <td>...</td>\n",
       "      <td>...</td>\n",
       "      <td>...</td>\n",
       "      <td>...</td>\n",
       "      <td>...</td>\n",
       "      <td>...</td>\n",
       "      <td>...</td>\n",
       "      <td>...</td>\n",
       "      <td>...</td>\n",
       "    </tr>\n",
       "    <tr>\n",
       "      <th>7045</th>\n",
       "      <td>7046</td>\n",
       "      <td>photo</td>\n",
       "      <td>9/24/2016 2:58</td>\n",
       "      <td>89</td>\n",
       "      <td>0</td>\n",
       "      <td>0</td>\n",
       "      <td>89</td>\n",
       "      <td>0</td>\n",
       "      <td>0</td>\n",
       "      <td>0</td>\n",
       "      <td>0</td>\n",
       "      <td>0</td>\n",
       "      <td>NaN</td>\n",
       "      <td>NaN</td>\n",
       "      <td>NaN</td>\n",
       "      <td>NaN</td>\n",
       "    </tr>\n",
       "    <tr>\n",
       "      <th>7046</th>\n",
       "      <td>7047</td>\n",
       "      <td>photo</td>\n",
       "      <td>9/23/2016 11:19</td>\n",
       "      <td>16</td>\n",
       "      <td>0</td>\n",
       "      <td>0</td>\n",
       "      <td>14</td>\n",
       "      <td>1</td>\n",
       "      <td>0</td>\n",
       "      <td>1</td>\n",
       "      <td>0</td>\n",
       "      <td>0</td>\n",
       "      <td>NaN</td>\n",
       "      <td>NaN</td>\n",
       "      <td>NaN</td>\n",
       "      <td>NaN</td>\n",
       "    </tr>\n",
       "    <tr>\n",
       "      <th>7047</th>\n",
       "      <td>7048</td>\n",
       "      <td>photo</td>\n",
       "      <td>9/21/2016 23:03</td>\n",
       "      <td>2</td>\n",
       "      <td>0</td>\n",
       "      <td>0</td>\n",
       "      <td>1</td>\n",
       "      <td>1</td>\n",
       "      <td>0</td>\n",
       "      <td>0</td>\n",
       "      <td>0</td>\n",
       "      <td>0</td>\n",
       "      <td>NaN</td>\n",
       "      <td>NaN</td>\n",
       "      <td>NaN</td>\n",
       "      <td>NaN</td>\n",
       "    </tr>\n",
       "    <tr>\n",
       "      <th>7048</th>\n",
       "      <td>7049</td>\n",
       "      <td>photo</td>\n",
       "      <td>9/20/2016 0:43</td>\n",
       "      <td>351</td>\n",
       "      <td>12</td>\n",
       "      <td>22</td>\n",
       "      <td>349</td>\n",
       "      <td>2</td>\n",
       "      <td>0</td>\n",
       "      <td>0</td>\n",
       "      <td>0</td>\n",
       "      <td>0</td>\n",
       "      <td>NaN</td>\n",
       "      <td>NaN</td>\n",
       "      <td>NaN</td>\n",
       "      <td>NaN</td>\n",
       "    </tr>\n",
       "    <tr>\n",
       "      <th>7049</th>\n",
       "      <td>7050</td>\n",
       "      <td>photo</td>\n",
       "      <td>9/10/2016 10:30</td>\n",
       "      <td>17</td>\n",
       "      <td>0</td>\n",
       "      <td>0</td>\n",
       "      <td>17</td>\n",
       "      <td>0</td>\n",
       "      <td>0</td>\n",
       "      <td>0</td>\n",
       "      <td>0</td>\n",
       "      <td>0</td>\n",
       "      <td>NaN</td>\n",
       "      <td>NaN</td>\n",
       "      <td>NaN</td>\n",
       "      <td>NaN</td>\n",
       "    </tr>\n",
       "  </tbody>\n",
       "</table>\n",
       "<p>7050 rows × 16 columns</p>\n",
       "</div>"
      ],
      "text/plain": [
       "      status_id status_type status_published  num_reactions  num_comments  \\\n",
       "0             1       video   4/22/2018 6:00            529           512   \n",
       "1             2       photo  4/21/2018 22:45            150             0   \n",
       "2             3       video   4/21/2018 6:17            227           236   \n",
       "3             4       photo   4/21/2018 2:29            111             0   \n",
       "4             5       photo   4/18/2018 3:22            213             0   \n",
       "...         ...         ...              ...            ...           ...   \n",
       "7045       7046       photo   9/24/2016 2:58             89             0   \n",
       "7046       7047       photo  9/23/2016 11:19             16             0   \n",
       "7047       7048       photo  9/21/2016 23:03              2             0   \n",
       "7048       7049       photo   9/20/2016 0:43            351            12   \n",
       "7049       7050       photo  9/10/2016 10:30             17             0   \n",
       "\n",
       "      num_shares  num_likes  num_loves  num_wows  num_hahas  num_sads  \\\n",
       "0            262        432         92         3          1         1   \n",
       "1              0        150          0         0          0         0   \n",
       "2             57        204         21         1          1         0   \n",
       "3              0        111          0         0          0         0   \n",
       "4              0        204          9         0          0         0   \n",
       "...          ...        ...        ...       ...        ...       ...   \n",
       "7045           0         89          0         0          0         0   \n",
       "7046           0         14          1         0          1         0   \n",
       "7047           0          1          1         0          0         0   \n",
       "7048          22        349          2         0          0         0   \n",
       "7049           0         17          0         0          0         0   \n",
       "\n",
       "      num_angrys  Column1  Column2  Column3  Column4  \n",
       "0              0      NaN      NaN      NaN      NaN  \n",
       "1              0      NaN      NaN      NaN      NaN  \n",
       "2              0      NaN      NaN      NaN      NaN  \n",
       "3              0      NaN      NaN      NaN      NaN  \n",
       "4              0      NaN      NaN      NaN      NaN  \n",
       "...          ...      ...      ...      ...      ...  \n",
       "7045           0      NaN      NaN      NaN      NaN  \n",
       "7046           0      NaN      NaN      NaN      NaN  \n",
       "7047           0      NaN      NaN      NaN      NaN  \n",
       "7048           0      NaN      NaN      NaN      NaN  \n",
       "7049           0      NaN      NaN      NaN      NaN  \n",
       "\n",
       "[7050 rows x 16 columns]"
      ]
     },
     "execution_count": 3,
     "metadata": {},
     "output_type": "execute_result"
    }
   ],
   "source": [
    "df"
   ]
  },
  {
   "cell_type": "markdown",
   "metadata": {},
   "source": [
    "#### Our dataframe looks good. We see that it has 7050 observations and 16 variables. The last 4 columns are empty. Let's drop them."
   ]
  },
  {
   "cell_type": "code",
   "execution_count": 7,
   "metadata": {},
   "outputs": [],
   "source": [
    "df = df.drop([\"Column1\", \"Column2\", \"Column3\", \"Column4\"], axis=\"columns\")"
   ]
  },
  {
   "cell_type": "code",
   "execution_count": 8,
   "metadata": {
    "scrolled": true
   },
   "outputs": [
    {
     "name": "stdout",
     "output_type": "stream",
     "text": [
      "<class 'pandas.core.frame.DataFrame'>\n",
      "RangeIndex: 7050 entries, 0 to 7049\n",
      "Data columns (total 12 columns):\n",
      " #   Column            Non-Null Count  Dtype \n",
      "---  ------            --------------  ----- \n",
      " 0   status_id         7050 non-null   int64 \n",
      " 1   status_type       7050 non-null   object\n",
      " 2   status_published  7050 non-null   object\n",
      " 3   num_reactions     7050 non-null   int64 \n",
      " 4   num_comments      7050 non-null   int64 \n",
      " 5   num_shares        7050 non-null   int64 \n",
      " 6   num_likes         7050 non-null   int64 \n",
      " 7   num_loves         7050 non-null   int64 \n",
      " 8   num_wows          7050 non-null   int64 \n",
      " 9   num_hahas         7050 non-null   int64 \n",
      " 10  num_sads          7050 non-null   int64 \n",
      " 11  num_angrys        7050 non-null   int64 \n",
      "dtypes: int64(10), object(2)\n",
      "memory usage: 661.1+ KB\n"
     ]
    }
   ],
   "source": [
    "# analysing the data\n",
    "df.info()"
   ]
  },
  {
   "cell_type": "markdown",
   "metadata": {},
   "source": [
    "#### We see that the status_type and status_published variables are of type \"Object\". We need to set them to numerical/datetime format in order to work with them. "
   ]
  },
  {
   "cell_type": "code",
   "execution_count": 9,
   "metadata": {},
   "outputs": [
    {
     "name": "stdout",
     "output_type": "stream",
     "text": [
      "photo     4288\n",
      "video     2334\n",
      "status     365\n",
      "link        63\n",
      "Name: status_type, dtype: int64\n"
     ]
    }
   ],
   "source": [
    "print(df[\"status_type\"].value_counts())   # displaying all the status types that this variable contains. They are photo, video, status and link.\n",
    "df[\"status_type\"] = df[\"status_type\"].astype(\"category\")  # this variable is now categorical"
   ]
  },
  {
   "cell_type": "code",
   "execution_count": 10,
   "metadata": {},
   "outputs": [
    {
     "name": "stdout",
     "output_type": "stream",
     "text": [
      "0        4/22/2018 6:00\n",
      "1       4/21/2018 22:45\n",
      "2        4/21/2018 6:17\n",
      "3        4/21/2018 2:29\n",
      "4        4/18/2018 3:22\n",
      "             ...       \n",
      "7045     9/24/2016 2:58\n",
      "7046    9/23/2016 11:19\n",
      "7047    9/21/2016 23:03\n",
      "7048     9/20/2016 0:43\n",
      "7049    9/10/2016 10:30\n",
      "Name: status_published, Length: 7050, dtype: object\n"
     ]
    }
   ],
   "source": [
    "print(df[\"status_published\"])  # status_published displays first the date and then the time of the publication\n",
    "df[\"status_published\"] = pd.to_datetime(df[\"status_published\"]) # converting the values in the \"status_published\" to datetime objects"
   ]
  },
  {
   "cell_type": "code",
   "execution_count": 11,
   "metadata": {
    "scrolled": true
   },
   "outputs": [
    {
     "data": {
      "text/plain": [
       "status_id                    int64\n",
       "status_type               category\n",
       "status_published    datetime64[ns]\n",
       "num_reactions                int64\n",
       "num_comments                 int64\n",
       "num_shares                   int64\n",
       "num_likes                    int64\n",
       "num_loves                    int64\n",
       "num_wows                     int64\n",
       "num_hahas                    int64\n",
       "num_sads                     int64\n",
       "num_angrys                   int64\n",
       "dtype: object"
      ]
     },
     "execution_count": 11,
     "metadata": {},
     "output_type": "execute_result"
    }
   ],
   "source": [
    "df.dtypes  #the newly assigned types of the variables"
   ]
  },
  {
   "cell_type": "markdown",
   "metadata": {},
   "source": [
    "#### No problems were thrown by the conversion to int => the data does not contain any nan values\n",
    "#### Now check for duplicates -> first check if there are more than one of the same ID, then check if observations have different IDs but the same information (the exact same time of publishing and so on)"
   ]
  },
  {
   "cell_type": "code",
   "execution_count": null,
   "metadata": {},
   "outputs": [],
   "source": [
    "df.nunique() #counting the number of unique values"
   ]
  },
  {
   "cell_type": "markdown",
   "metadata": {},
   "source": [
    "#### The status_ids are all different (all 7050), but there are more than one \"status_published\" at the exact same point of time (the value for \"status_published\" is only 6913) which is strange. We can assume that some of these observations are duplicates. We need to check if the other values for these observations are different in order to be sure whether they are duplocate."
   ]
  },
  {
   "cell_type": "code",
   "execution_count": null,
   "metadata": {},
   "outputs": [],
   "source": [
    "df.drop(\"status_id\", axis=\"columns\").drop_duplicates()  "
   ]
  },
  {
   "cell_type": "markdown",
   "metadata": {},
   "source": [
    "#### Here we dropped the variable \"status_id\". The function drop_duplicates drops all observations from the resulting data frame that are the same."
   ]
  },
  {
   "cell_type": "code",
   "execution_count": null,
   "metadata": {},
   "outputs": [],
   "source": [
    "df = df[df.index.isin(df.drop(\"status_id\", axis=\"columns\").drop_duplicates().index)] # saving the dataframe without duplicates\n",
    "\n",
    "# .index accesses the index of the resulting dataframe obtained after dropping the \"status_id\" column and removing duplicates\n",
    "# df.index.isin(...): This creates a boolean mask by checking if each index value in the original df is present in the index of the newly obtained dataframe. This results in a Series of True and False values.\n",
    "# The boolean mask is used to filter the original df. It keeps only the rows where the index is present in the index of the newly obtained dataframe"
   ]
  },
  {
   "cell_type": "code",
   "execution_count": null,
   "metadata": {},
   "outputs": [],
   "source": [
    "df "
   ]
  },
  {
   "cell_type": "markdown",
   "metadata": {},
   "source": [
    "#### After cleaning, our data has 6996 observations and 12 variables."
   ]
  },
  {
   "cell_type": "markdown",
   "metadata": {},
   "source": [
    "### Let's look at the correlation between variables."
   ]
  },
  {
   "cell_type": "code",
   "execution_count": 24,
   "metadata": {
    "scrolled": false
   },
   "outputs": [
    {
     "name": "stdout",
     "output_type": "stream",
     "text": [
      "               status_id  num_reactions  num_comments  num_shares  num_likes  \\\n",
      "status_id       1.000000      -0.186568      0.183191    0.206444  -0.208331   \n",
      "num_reactions  -0.186568       1.000000      0.150843    0.250723   0.994923   \n",
      "num_comments    0.183191       0.150843      1.000000    0.640637   0.101687   \n",
      "num_shares      0.206444       0.250723      0.640637    1.000000   0.172492   \n",
      "num_likes      -0.208331       0.994923      0.101687    0.172492   1.000000   \n",
      "num_loves       0.155523       0.305003      0.521223    0.820000   0.209308   \n",
      "num_wows        0.059781       0.267752      0.162394    0.407628   0.207800   \n",
      "num_hahas       0.115097       0.176028      0.325048    0.399826   0.120784   \n",
      "num_sads        0.042887       0.075138      0.236453    0.199970   0.052169   \n",
      "num_angrys      0.096676       0.124326      0.225184    0.312513   0.087431   \n",
      "\n",
      "               num_loves  num_wows  num_hahas  num_sads  num_angrys  \n",
      "status_id       0.155523  0.059781   0.115097  0.042887    0.096676  \n",
      "num_reactions   0.305003  0.267752   0.176028  0.075138    0.124326  \n",
      "num_comments    0.521223  0.162394   0.325048  0.236453    0.225184  \n",
      "num_shares      0.820000  0.407628   0.399826  0.199970    0.312513  \n",
      "num_likes       0.209308  0.207800   0.120784  0.052169    0.087431  \n",
      "num_loves       1.000000  0.508798   0.507830  0.207600    0.371001  \n",
      "num_wows        0.508798  1.000000   0.287756  0.086503    0.183087  \n",
      "num_hahas       0.507830  0.287756   1.000000  0.141421    0.211910  \n",
      "num_sads        0.207600  0.086503   0.141421  1.000000    0.142072  \n",
      "num_angrys      0.371001  0.183087   0.211910  0.142072    1.000000  \n"
     ]
    }
   ],
   "source": [
    "correlation_matrix = df.corr()\n",
    "print(correlation_matrix)"
   ]
  },
  {
   "cell_type": "markdown",
   "metadata": {},
   "source": []
  },
  {
   "cell_type": "code",
   "execution_count": 25,
   "metadata": {},
   "outputs": [],
   "source": [
    "exclude_variable = 'status_id'\n",
    "correlation_matrix_excluded = correlation_matrix.drop(exclude_variable).drop(exclude_variable, axis=1)"
   ]
  },
  {
   "cell_type": "code",
   "execution_count": 38,
   "metadata": {},
   "outputs": [
    {
     "data": {
      "text/plain": [
       "<AxesSubplot:>"
      ]
     },
     "execution_count": 38,
     "metadata": {},
     "output_type": "execute_result"
    },
    {
     "data": {
      "image/png": "[encoded data removed]",
      "text/plain": [
       "<Figure size 648x648 with 2 Axes>"
      ]
     },
     "metadata": {
      "needs_background": "light"
     },
     "output_type": "display_data"
    }
   ],
   "source": [
    "plt.figure(figsize = (9,9))\n",
    "sns.heatmap(correlation_matrix_excluded, annot = True, fmt = \".2f\", cmap = \"viridis\")"
   ]
  },
  {
   "cell_type": "code",
   "execution_count": 46,
   "metadata": {},
   "outputs": [
    {
     "name": "stdout",
     "output_type": "stream",
     "text": [
      "       status_id  num_reactions  num_comments  num_shares  num_likes  \\\n",
      "count    7050.00        7050.00       7050.00     7050.00    7050.00   \n",
      "mean     3525.50         230.12        224.36       40.02     215.04   \n",
      "std      2035.30         462.63        889.64      131.60     449.47   \n",
      "min         1.00           0.00          0.00        0.00       0.00   \n",
      "25%      1763.25          17.00          0.00        0.00      17.00   \n",
      "50%      3525.50          59.50          4.00        0.00      58.00   \n",
      "75%      5287.75         219.00         23.00        4.00     184.75   \n",
      "max      7050.00        4710.00      20990.00     3424.00    4710.00   \n",
      "\n",
      "       num_loves  num_wows  num_hahas  num_sads  num_angrys  \n",
      "count    7050.00   7050.00    7050.00   7050.00     7050.00  \n",
      "mean       12.73      1.29       0.70      0.24        0.11  \n",
      "std        39.97      8.72       3.96      1.60        0.73  \n",
      "min         0.00      0.00       0.00      0.00        0.00  \n",
      "25%         0.00      0.00       0.00      0.00        0.00  \n",
      "50%         0.00      0.00       0.00      0.00        0.00  \n",
      "75%         3.00      0.00       0.00      0.00        0.00  \n",
      "max       657.00    278.00     157.00     51.00       31.00  \n"
     ]
    }
   ],
   "source": [
    "print(df.describe().round(2))"
   ]
  },
  {
   "cell_type": "code",
   "execution_count": null,
   "metadata": {},
   "outputs": [],
   "source": []
  }
 ],
 "metadata": {
  "kernelspec": {
   "display_name": "Python 3 (ipykernel)",
   "language": "python",
   "name": "python3"
  },
  "language_info": {
   "codemirror_mode": {
    "name": "ipython",
    "version": 3
   },
   "file_extension": ".py",
   "mimetype": "text/x-python",
   "name": "python",
   "nbconvert_exporter": "python",
   "pygments_lexer": "ipython3",
   "version": "3.9.12"
  }
 },
 "nbformat": 4,
 "nbformat_minor": 2
}
